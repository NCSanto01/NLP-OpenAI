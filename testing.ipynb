{
 "cells": [
  {
   "cell_type": "markdown",
   "metadata": {},
   "source": [
    "## Imports and Functions"
   ]
  },
  {
   "cell_type": "code",
   "execution_count": 65,
   "metadata": {},
   "outputs": [],
   "source": [
    "# imports\n",
    "import pandas\n",
    "import pickle\n",
    "from googletrans import Translator, constants\n",
    "import requests\n",
    "import pandas\n",
    "from sklearn.metrics.pairwise import cosine_similarity\n",
    "import pickle\n",
    "import gzip\n",
    "import json\n",
    "\n",
    "\n",
    "translator = Translator()\n",
    "\n",
    "from openai.embeddings_utils import (\n",
    "    get_embedding,\n",
    "    distances_from_embeddings,\n",
    "    tsne_components_from_embeddings,\n",
    "    chart_from_components,\n",
    "    indices_of_nearest_neighbors_from_distances,\n",
    ")\n",
    "import openai\n",
    "from dotenv import load_dotenv\n",
    "import os\n",
    "load_dotenv()\n",
    "\n",
    "from config import *\n",
    "\n",
    "# constants\n",
    "EMBEDDING_MODEL = \"text-embedding-ada-002\"\n",
    "\n",
    "openai.api_key = os.environ.get('OPENAI_API_KEY')\n",
    "\n",
    "\n",
    "def get_key_words(element_content, prompt):\n",
    "    \"\"\"\n",
    "        Returns keywords extracted from element content\n",
    "    \"\"\"\n",
    "\n",
    "    text = prompt + \" \" + element_content\n",
    "    max_tokens = 4097\n",
    "\n",
    "    if len(text)> 4097*2.5:\n",
    "        text = text[:int(max_tokens*2)]\n",
    "        print(\"TRUNCATED: \", len(text))\n",
    "    \n",
    "    try:\n",
    "        response = openai.ChatCompletion.create(\n",
    "                model=\"gpt-3.5-turbo\",\n",
    "                messages=[\n",
    "                {\"role\": \"system\", \"content\": \"You are a helpful assistant.\"},\n",
    "                {\"role\": \"user\", \"content\": text}\n",
    "                ]\n",
    "            )\n",
    "\n",
    "        key_words = response[\"choices\"][0][\"message\"][\"content\"]\n",
    "    except Exception as e:\n",
    "        print(\"ERROR: \", e)\n",
    "        key_words = \"\"\n",
    "    return key_words\n",
    "\n",
    "\n",
    "def embedding_from_string(\n",
    "    string: str,\n",
    "    model: str = EMBEDDING_MODEL,\n",
    ") -> list:\n",
    "    \"\"\"\n",
    "        Returns embedding from string\n",
    "    \"\"\"\n",
    "    embedding = get_embedding(string, model)\n",
    "    \n",
    "    return embedding\n",
    "    \n",
    "def get_element_info(element):\n",
    "    return \"{'name': \"+element['name']+\", 'description': \"+str(element['content'])+\"}\" \n",
    "    \n",
    "\n"
   ]
  },
  {
   "cell_type": "code",
   "execution_count": null,
   "metadata": {},
   "outputs": [],
   "source": []
  },
  {
   "cell_type": "markdown",
   "metadata": {},
   "source": [
    "## Load Input Elements"
   ]
  },
  {
   "cell_type": "code",
   "execution_count": 5,
   "metadata": {},
   "outputs": [
    {
     "name": "stdout",
     "output_type": "stream",
     "text": [
      "INPUT ELEMENTS:  [{'id': 1, 'name': 'Machine Learning', 'content': 'Basic concepts of machine learning, machine learning techniques, main machine learning models, introduction to bots, etc.'}, {'id': 2, 'name': 'Data Analytics', 'content': 'Basic concepts, main analytical models, business intelligence, web page analytics, machine learning techniques, etc.'}]\n"
     ]
    }
   ],
   "source": [
    "input_elements = []\n",
    "try:\n",
    "    with open(input_elements_file, 'rb') as handle:\n",
    "        input_elements = pickle.load(handle)\n",
    "except:\n",
    "    print(\"No input file found\")\n",
    "\n",
    "print(\"INPUT ELEMENTS: \", input_elements)"
   ]
  },
  {
   "cell_type": "markdown",
   "metadata": {},
   "source": [
    "## Get Keywords from target elements"
   ]
  },
  {
   "cell_type": "markdown",
   "metadata": {},
   "source": [
    "### Define Prompt"
   ]
  },
  {
   "cell_type": "code",
   "execution_count": 6,
   "metadata": {},
   "outputs": [],
   "source": [
    "element_type = \"online test\"\n",
    "\n",
    "failed_questions = \"In choosing an algorithm, what is the basis of the stability criterion?,\\\n",
    "                    Which would be a possible function to normalize in R?,\\\n",
    "                    Which tool displays the performance of an algorithm that is used in supervised learning?, \\\n",
    "                    The main problems of supervised learning in machine learning are... (select two), \\\n",
    "                    The unstructured learning model in machine learning that aims to structure data in groups according to its similarity is called..., \\\n",
    "                    What is the name of each of the data available for analysis in machine learning?, \\\n",
    "                    What is the purpose of Supervised Learning?, \\\n",
    "                    What is TensorFlow?, \\\n",
    "                    When we need to apply a model that results in a continuous variable, which is the one that tends to be used first?, \\\n",
    "                    In the data preparation phase, how are missing numeric vectors usually represented?, \\\n",
    "                    Select a trait of reinforcement learning.\"\n",
    "\n",
    "system_prompt = f\"\"\"You are an NLP AI that aims to generate keywords that summarize texts. In this case, you are given the information about the results of an online test done by a user. \\\n",
    "                You are given the name and description of the test, as well as the questions that the user has failed, delimited by triple backticks. failed questions: ```{failed_questions}```.\\\n",
    "                You must generate 5 words that describe as precisely as possible the topics that the user has to work on in order to get a better mark on the test. \\\n",
    "                It is VERY IMPORTANT that the first generated keyword describes the main topic of the test. The other keywords must be focused on the topics of the failed questions.\n",
    "                You must write the 5 words in one single line. Here are the name and description of the test in JSON format:\"\"\""
   ]
  },
  {
   "cell_type": "markdown",
   "metadata": {},
   "source": [
    "### Get Keywords"
   ]
  },
  {
   "cell_type": "code",
   "execution_count": 7,
   "metadata": {},
   "outputs": [
    {
     "name": "stdout",
     "output_type": "stream",
     "text": [
      "KEYWORDS:  Machine Learning, algorithm stability, R normalization, algorithm performance, supervised learning problems.\n"
     ]
    }
   ],
   "source": [
    "input_element = input_elements[0]\n",
    "element_info = get_element_info(input_element)\n",
    "\n",
    "keywords = get_key_words(element_info, system_prompt)\n",
    "\n",
    "print(\"KEYWORDS: \", keywords)"
   ]
  },
  {
   "cell_type": "markdown",
   "metadata": {},
   "source": [
    "### Other option: One keyword per failed question"
   ]
  },
  {
   "cell_type": "code",
   "execution_count": 46,
   "metadata": {},
   "outputs": [
    {
     "name": "stdout",
     "output_type": "stream",
     "text": [
      "KEYWORDS 2:  Machine Learning, Stability criterion, Normalization in R, Performance evaluation, Supervised learning problems, Unstructured learning model, Data analysis, Purpose of Supervised Learning, TensorFlow, Continuous variable model, Missing numeric vectors, Reinforcement learning\n"
     ]
    }
   ],
   "source": [
    "system_prompt_2 = f\"\"\"You are an NLP AI that aims to generate keywords that summarize texts. In this case, you are given the information about the results of an online test done by a user. \\\n",
    "                You are given the name and description of the test, as well as the questions that the user has failed, delimited by triple backticks. failed questions: ```{failed_questions}```.\\\n",
    "                You must generate keywords that describe as precisely as possible the topics that the user has to work on in order to get a better mark on the test. \\\n",
    "                It is VERY IMPORTANT that the first generated keyword describes the main topic of the test. Then you must generate one keyword per failed question, so that the keyword describes the topic of the question.\\\n",
    "                You must write all keywords in one single line. Here are the name and description of the test in JSON format:\"\"\"\n",
    "\n",
    "input_element = input_elements[0]\n",
    "element_info = get_element_info(input_element)\n",
    "\n",
    "keywords_2 = get_key_words(element_info, system_prompt_2)\n",
    "\n",
    "print(\"KEYWORDS 2: \", keywords_2)"
   ]
  },
  {
   "cell_type": "markdown",
   "metadata": {},
   "source": [
    "## Get Target Element Keywords"
   ]
  },
  {
   "cell_type": "markdown",
   "metadata": {},
   "source": [
    "### Load Target Elements"
   ]
  },
  {
   "cell_type": "code",
   "execution_count": 14,
   "metadata": {},
   "outputs": [
    {
     "name": "stdout",
     "output_type": "stream",
     "text": [
      "TARGET ELEMENTS: \n",
      "{'id': 1, 'name': 'Data Analytics', 'content': 'Data Scientists try to make sense of the data that’s all around us. Taking a data science course can help you make informed decisions, create beautiful visualizations, and even try to predict future events through Machine Learning. If you’re curious about what you can learn about the world using the data produced every day, then data science might be for you!'}\n",
      "{'id': 1, 'name': 'Databases', 'content': 'Learn database development from our best-in-class instructors. Our courses help you skill up in SQL, Python, NoSQL, Object relational mapping and more. Our authors show you how to gather the information needed, analyze the requirements, design a schema and implement the final solution.'}\n",
      "{'id': 1, 'name': 'Cybersecurity', 'content': 'Today’s interconnected world makes everyone more susceptible to cyber-attacks. Whether you’re attracted to the relativity new world of cybersecurity as a professional, or just interested in protecting yourself online and in social media, this introductory course is the answer. It explores cyber trends, threats—along with the broader topic of cybersecurity in a way that will matter to YOU. For instance, you’ll learn how to protect your personal privacy online while gaining additional insight on the challenges companies, and governmental and educational institutions face today. No prerequisites required.'}\n",
      "{'id': 1, 'name': 'Machine learning', 'content': 'Demand for machine learning skills is growing fast. With Pluralsight, you’ll learn everything from the fundamentals to advanced topics like neural networks, natural language processing, and unsupervised learning models. Master machine learning with help from real-world experts.'}\n",
      "{'id': 1, 'name': 'Web development', 'content': 'Web Development is the practice of developing websites and web apps that live on the internet. Whether you’re interested in front-end, back-end, or going full-stack, our web development courses will help you get there.'}\n",
      "{'id': 1, 'name': 'Digital marketing', 'content': 'Digital Marketing Certification Online Course transforms you into a digital market specialist in domains like SEO, social media, pay-per-click, conversion optimization, digital analytics, content, mobile, & email marketing. Get 12-month access to Digital Marketing Program & become industry-ready with the latest tools, work on real-world projects, and attend Expert Sessions from the Facebook team.'}\n",
      "{'id': 7, 'name': 'Machine Learning scientific paper', 'content': 'In the current age of the Fourth Industrial Revolution (4IR or Industry 4.0), the digital world has a wealth of data, such as Internet of Things (IoT) data, cybersecurity data, mobile data, business data, social media data, health data, etc. To intelligently analyze these data and develop the corresponding smart and automated applications, the knowledge of artificial intelligence (AI), particularly, machine learning (ML) is the key. Various types of machine learning algorithms such as supervised, unsupervised, semi-supervised, and reinforcement learning exist in the area. Besides, the deep learning, which is part of a broader family of machine learning methods, can intelligently analyze the data on a large scale. In this paper, we present a comprehensive view on these machine learning algorithms that can be applied to enhance the intelligence and the capabilities of an application. Thus, this study’s key contribution is explaining the principles of different machine learning techniques and their applicability in various real-world application domains, such as cybersecurity systems, smart cities, healthcare, e-commerce, agriculture, and many more. We also highlight the challenges and potential research directions based on our study. Overall, this paper aims to serve as a reference point for both academia and industry professionals as well as for decision-makers in various real-world situations and application areas, particularly from the technical point of view.'}\n",
      "{'id': 8, 'name': 'Algorithms blog post', 'content': 'In this post, we will take a tour of the most popular machine learning algorithms.  It is useful to tour the main algorithms in the field to get a feeling of what methods are available.  There are so many algorithms that it can feel overwhelming when algorithm names are thrown around and you are expected to just know what they are and where they fit.  I want to give you two ways to think about and categorize the algorithms you may come across in the field.  The first is a grouping of algorithms by their learning style. The second is a grouping of algorithms by their similarity in form or function (like grouping similar animals together). Both approaches are useful, but we will focus in on the grouping of algorithms by similarity and go on a tour of a variety of different algorithm types.  After reading this post, you will have a much better understanding of the most popular machine learning algorithms for supervised learning and how they are related.'}\n"
     ]
    }
   ],
   "source": [
    "target_elements = []\n",
    "try:\n",
    "    with open(source_elements_file, 'rb') as handle:\n",
    "        target_elements = pickle.load(handle)\n",
    "except:\n",
    "    print(\"No target file found\")\n",
    "\n",
    "print(\"TARGET ELEMENTS: \")\n",
    "for target_element in target_elements:\n",
    "    print(target_element)"
   ]
  },
  {
   "cell_type": "markdown",
   "metadata": {},
   "source": [
    "### Define Prompt"
   ]
  },
  {
   "cell_type": "code",
   "execution_count": 80,
   "metadata": {},
   "outputs": [],
   "source": [
    "element_type = \"online course\"\n",
    "prompt_1 = f\"You are an NLP AI that aims to generate keywords that summarize texts.\\\n",
    "        In this case, you are given the name and description of an {element_type}.\\\n",
    "        You must generate 5 keywords that describe as precisely as possible the main topic of the {element_type}.\\\n",
    "        It is VERY IMPORTANT that the first generated keyword describes the main topic of the {element_type}.\\\n",
    "        It is VERY IMPORTANT that each keyword relates specifically to the main topic of the {element_type}.\\\n",
    "        You must write the 5 keywords in one single line.\"\n",
    "\n",
    "prompt_2 = f\"You are an NLP AI that aims to generate keywords that summarize texts.\\\n",
    "        In this case, you are given the name and description of an {element_type}.\\\n",
    "        You must extract the topics treated by the {element_type}.\\\n",
    "        Then, you must generate one keyword per topic extracted so that the keyword summarizes that specific topic.\\\n",
    "        You must write all the final keywords in one single line.\"\n",
    "\n",
    "prompt_3 = f\"Please generate a list of keywords that summarize the topics covered in the {element_type} named 'Machine Learning' with the following description:\\\n",
    "        'Demand for machine learning skills is growing fast. With Pluralsight, you’ll learn everything from the fundamentals to advanced topics like neural networks, natural language processing, and unsupervised learning models. Master machine learning with help from real-world experts.'\\\n",
    "        You must write all the keywords in one single line.\"\n",
    "\n",
    "prompt_4 = f\"Please extract key technical concepts and topics from the {element_type} named 'Machine Learning' with the following description:\\\n",
    "        'Demand for machine learning skills is growing fast. With Pluralsight, you’ll learn everything from the fundamentals to advanced topics like neural networks, natural language processing, and unsupervised learning models. Master machine learning with help from real-world experts.'\\\n",
    "        Provide a list of keywords that best represent the core subject matter covered in the course.\\\n",
    "        You must write all the keywords in one single line.\"\n",
    "\n",
    "prompt_5 = f'Given the {element_type} \"Machine Learing\" described as follows:\\\n",
    "        \"Demand for machine learning skills is growing fast. With Pluralsight, you’ll learn everything from the fundamentals to advanced topics like neural networks, natural language processing, and unsupervised learning models. Master machine learning with help from real-world experts.\",\\\n",
    "        please identify and list the technical terms, concepts, and specific topics that are central to the content of the {element_type}.'\n",
    "\n",
    "prompt_6 = f\"You are an NLP AI that aims to generate keywords that summarize texts.\\\n",
    "        In this case, you are given the name and description of an {element_type}.\\\n",
    "        You must extract the key technical concepts and topics from the {element_type}.\\\n",
    "        Then, you must generate one keyword per topic extracted so that the keyword summarizes that specific topic.\\\n",
    "        All final keywords must be central to the content of the {element_type}.\\\n",
    "        You must write all the final keywords in one single line.\"\n",
    "\n",
    "prompt_7 = f\"You are an NLP AI that aims to generate keywords that summarize texts.\\\n",
    "        In this case, you are given the name and description of an {element_type}.\\\n",
    "        You must generate 5 keywords that summarize the key technical concepts and topics from the {element_type}.\\\n",
    "        It is VERY IMPORTANT that the first generated keyword describes the main topic of the {element_type}.\\\n",
    "        It is VERY IMPORTANT that all keywords are relevant to the main topic of the {element_type}.\\\n",
    "        You must write all the final keywords in one single line.\"\n"
   ]
  },
  {
   "cell_type": "markdown",
   "metadata": {},
   "source": [
    "### Get Target Element Keywords"
   ]
  },
  {
   "cell_type": "code",
   "execution_count": 84,
   "metadata": {},
   "outputs": [
    {
     "name": "stdout",
     "output_type": "stream",
     "text": [
      "TARGET ELEMENT:  Cybersecurity\n",
      "TARGET KEYWORDS:  Cybersecurity, cyber trends, threats, personal privacy, challenges\n"
     ]
    }
   ],
   "source": [
    "target_element = target_elements[2]\n",
    "\n",
    "element_info = get_element_info(target_element)\n",
    "\n",
    "keywords_target = get_key_words(element_info, prompt_7)\n",
    "\n",
    "print(\"TARGET ELEMENT: \", target_element[\"name\"])\n",
    "print(\"TARGET KEYWORDS: \", keywords_target)"
   ]
  },
  {
   "cell_type": "markdown",
   "metadata": {},
   "source": [
    "## Calculate Distance From Input To Target"
   ]
  },
  {
   "cell_type": "code",
   "execution_count": 86,
   "metadata": {},
   "outputs": [
    {
     "name": "stdout",
     "output_type": "stream",
     "text": [
      "[0.16708727458543138, 0.12897739088965376]\n"
     ]
    }
   ],
   "source": [
    "# keywords_1 = \"Machine Learning, Stability criterion, Normalization in R, Performance evaluation, Supervised learning problems, Unstructured learning model, Data analysis, Purpose of Supervised Learning, TensorFlow, Continuous variable model, Missing numeric vectors, Reinforcement learning\"\n",
    "# keywords_2 = \"\"\n",
    "\n",
    "keywords_0 = \"Machine Learning, neural networks, natural language processing, unsupervised learning models.\"\n",
    "keywords_1 = \"Machine Learning, Supervised learning, Stability criterion, Normalization in R\"\n",
    "keywords_2 = \"Machine Learning, Stability criterion, Normalization in R, Performance evaluation, Supervised learning problems, Unstructured learning model, Data analysis, Purpose of Supervised Learning, TensorFlow, Continuous variable model, Missing numeric vectors, Reinforcement learning\"\n",
    "\n",
    "embs_0 = embedding_from_string(keywords_0)\n",
    "embs_1 = embedding_from_string(keywords_1)\n",
    "embs_2 = embedding_from_string(keywords_2)\n",
    "\n",
    "distances = distances_from_embeddings(embs_0, [embs_1, embs_2], distance_metric=\"cosine\")\n",
    "print(distances)"
   ]
  }
 ],
 "metadata": {
  "kernelspec": {
   "display_name": "env",
   "language": "python",
   "name": "python3"
  },
  "language_info": {
   "codemirror_mode": {
    "name": "ipython",
    "version": 3
   },
   "file_extension": ".py",
   "mimetype": "text/x-python",
   "name": "python",
   "nbconvert_exporter": "python",
   "pygments_lexer": "ipython3",
   "version": "3.11.4"
  },
  "orig_nbformat": 4
 },
 "nbformat": 4,
 "nbformat_minor": 2
}
