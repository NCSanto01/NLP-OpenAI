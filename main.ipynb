{
 "cells": [
  {
   "attachments": {},
   "cell_type": "markdown",
   "metadata": {},
   "source": []
  },
  {
   "attachments": {},
   "cell_type": "markdown",
   "metadata": {},
   "source": [
    "## Imports and Functions"
   ]
  },
  {
   "cell_type": "code",
   "execution_count": 22,
   "metadata": {},
   "outputs": [],
   "source": [
    "import requests\n",
    "import pandas\n",
    "import pickle\n",
    "import gzip\n",
    "import os\n",
    "from openai.embeddings_utils import (\n",
    "    get_embedding,\n",
    "    distances_from_embeddings,\n",
    "    tsne_components_from_embeddings,\n",
    "    chart_from_components,\n",
    "    indices_of_nearest_neighbors_from_distances,\n",
    ")\n",
    "import openai\n",
    "from sklearn.metrics.pairwise import cosine_similarity\n",
    "from dotenv import load_dotenv\n",
    "load_dotenv()\n",
    "\n",
    "# constants\n",
    "EMBEDDING_MODEL = \"text-embedding-ada-002\"\n",
    "\n",
    "openai.api_key = os.environ.get('OPENAI_API_KEY')\n",
    "\n",
    "def get_key_words(element_content, prompt):\n",
    "    \"\"\"\n",
    "        Returns keywords extracted from element content\n",
    "    \"\"\"\n",
    "\n",
    "    text = prompt + \" \" + element_content\n",
    "    max_tokens = 4097\n",
    "\n",
    "    if len(text)> 4097*2.5:\n",
    "        text = text[:int(max_tokens*2)]\n",
    "        print(\"TRUNCATED: \", len(text))\n",
    "    \n",
    "    try:\n",
    "        response = openai.ChatCompletion.create(\n",
    "                model=\"gpt-3.5-turbo\",\n",
    "                messages=[\n",
    "                {\"role\": \"system\", \"content\": \"You are a helpful assistant.\"},\n",
    "                {\"role\": \"user\", \"content\": text}\n",
    "                ]\n",
    "            )\n",
    "\n",
    "        key_words = response[\"choices\"][0][\"message\"][\"content\"]\n",
    "    except Exception as e:\n",
    "        print(\"ERROR: \", e)\n",
    "        key_words = \"\"\n",
    "    return key_words\n",
    "\n",
    "def embedding_from_string(\n",
    "    string: str,\n",
    "    model: str = EMBEDDING_MODEL,\n",
    ") -> list:\n",
    "    \"\"\"\n",
    "        Returns embedding from string\n",
    "    \"\"\"\n",
    "    embedding = get_embedding(string, model)\n",
    "    \n",
    "    return embedding\n",
    "\n",
    "def get_embeddings_data(file: str):\n",
    "    with gzip.open(file, 'rb') as f:\n",
    "        # Loads data from .gzip file\n",
    "        data = pickle.load(f)\n",
    "        \n",
    "    return data\n",
    "\n",
    "def get_source_elements(file: str):\n",
    "    try:\n",
    "        with open(file, 'rb') as handle:\n",
    "            source_elements = pickle.load(handle)\n",
    "        \n",
    "    except:\n",
    "        print(\"No source elements file found\")\n",
    "    \n",
    "    return source_elements\n",
    "\n",
    "def get_element_info(element):\n",
    "    return \"{'name': \"+element['name']+\", 'description': \"+str(element['content'])+\"}\" \n",
    "\n",
    "def get_recommendations(input_embedding, source_data, max_distance: float = 2.0, max_courses: int = 10, print_results: bool = False):\n",
    "    source_embeddings = []\n",
    "    recommended_elements = []\n",
    "    for element in source_data:\n",
    "        source_embeddings.append(element['embeddings'])\n",
    "      \n",
    "    # get distances between the source embedding and other embeddings (function from embeddings_utils.py)\n",
    "    distances = distances_from_embeddings(input_embedding, source_embeddings, distance_metric=\"cosine\")\n",
    "    \n",
    "    # get indices of nearest neighbors (function from embeddings_utils.py)\n",
    "    indices_of_nearest_neighbors = indices_of_nearest_neighbors_from_distances(distances)\n",
    "    \n",
    "    # print k nearest neighbors:\n",
    "    k_counter = 0\n",
    "    for i in indices_of_nearest_neighbors:\n",
    "        # stop after printing out k articles\n",
    "        if k_counter >= max_courses:\n",
    "            break\n",
    "            \n",
    "        if distances[i]>max_distance:\n",
    "            break\n",
    "        k_counter += 1\n",
    "\n",
    "        if print_results == True:\n",
    "            # print out the similar strings and their distances\n",
    "            print(\n",
    "                f\"\"\"\n",
    "            --- Recommendation #{k_counter} (nearest neighbor {k_counter}) ---\n",
    "            Element: {source_data[i]['name']}\n",
    "            Distance: {distances[i]:0.3f}\"\"\"\n",
    "            )\n",
    "        \n",
    "        recommended_elements.append({\"course\":source_data[i]['name'], \"distance\": str(round(distances[i],3))})\n",
    "\n",
    "    return recommended_elements"
   ]
  },
  {
   "attachments": {},
   "cell_type": "markdown",
   "metadata": {},
   "source": [
    "## Load source Embeddings data"
   ]
  },
  {
   "cell_type": "code",
   "execution_count": 4,
   "metadata": {},
   "outputs": [],
   "source": [
    "embeddings_data_file = \"embeddings_data.gz\"\n",
    "embeddings_data = get_embeddings_data(embeddings_data_file)"
   ]
  },
  {
   "attachments": {},
   "cell_type": "markdown",
   "metadata": {},
   "source": [
    "## Define Input Element\n",
    "Here you can create your own input element, or choose from one of the source elements"
   ]
  },
  {
   "cell_type": "code",
   "execution_count": 19,
   "metadata": {},
   "outputs": [
    {
     "name": "stdout",
     "output_type": "stream",
     "text": [
      "The following elements represent online courses:\n",
      "1: Data Analytics\n",
      "2: Databases\n",
      "3: Cybersecurity\n",
      "4: Machine learning\n",
      "5: Web development\n",
      "6: Digital marketing\n",
      "Input Element: Databases\n"
     ]
    }
   ],
   "source": [
    "\n",
    "choice = input(\"Do you want to:  1) Create your own input element       2) Choose one from source elements      Type 1 or 2\")\n",
    "\n",
    "if choice == \"1\":\n",
    "    element_name = input(\"Type the name of the element\")\n",
    "    element_content = input(\"Type the content of the element\")\n",
    "\n",
    "    input_element = {\n",
    "        'id': \"100\", \n",
    "        'name':  element_name,\n",
    "        'content': element_content\n",
    "    }\n",
    "    print(\"Input element: \", input_element)\n",
    "elif choice == \"2\":\n",
    "    source_elements_file = \"source.pickle\"\n",
    "    source_elements = get_source_elements(source_elements_file)\n",
    "\n",
    "    print(\"The following elements represent online courses:\")\n",
    "    i = 1\n",
    "    for element in source_elements:\n",
    "        print(str(i) + \": \" + element['name'])\n",
    "        i = i + 1\n",
    "    chosen_index = input(\"Choose the element that you want to use as input\")\n",
    "\n",
    "    while((chosen_index.isnumeric() == False) or (int(chosen_index)>len(source_elements))):\n",
    "        print(\"Choice must be just a number and must be between the possible choices\")\n",
    "        chosen_index = input(\"Choose the element that you want to use as input\")\n",
    "\n",
    "    chosen_index = int(chosen_index)\n",
    "\n",
    "    input_element = source_elements[chosen_index - 1]\n",
    "    print(\"Input Element: \" + input_element['name'])\n",
    "\n",
    "else:\n",
    "    print(\"Invalid choice, exiting\")\n",
    "\n"
   ]
  },
  {
   "attachments": {},
   "cell_type": "markdown",
   "metadata": {},
   "source": [
    "## Define prompt for input element keywords generation\n",
    "\n",
    "Here you must define the prompt that ChatGPT will use to generate the keywords for your input element.\\\n",
    "You can use the default prompt only if the input element represents an online course."
   ]
  },
  {
   "cell_type": "code",
   "execution_count": 20,
   "metadata": {},
   "outputs": [
    {
     "name": "stdout",
     "output_type": "stream",
     "text": [
      "Default prompt: This is the information about an online course. You must generate 5 words that describe as precisely as possible the main topic of the course. You must write the 5 words in one single line.\n",
      "Using default prompt!\n"
     ]
    }
   ],
   "source": [
    "default_promtp = \"This is the information about an online course. You must generate 5 words that describe as precisely as possible the main topic of the course. You must write the 5 words in one single line.\"\n",
    "\n",
    "print(\"Default prompt: \" + default_promtp)\n",
    "choice = input(\"Do you want to: 1) customize the prompt   2) use the default prompt \\n Only use default prompt if the input element represents an online course \")\n",
    "\n",
    "if choice == \"1\":\n",
    "    prompt = input(\"Enter new prompt. The format should be as close to the default prompt as possible\")\n",
    "\n",
    "else:\n",
    "    prompt = default_promtp\n",
    "    print(\"Using default prompt!\")\n"
   ]
  },
  {
   "attachments": {},
   "cell_type": "markdown",
   "metadata": {},
   "source": [
    "## Get recommended elements based on input element"
   ]
  },
  {
   "cell_type": "code",
   "execution_count": 23,
   "metadata": {},
   "outputs": [
    {
     "name": "stdout",
     "output_type": "stream",
     "text": [
      "Keywords from input element:  Database Development, SQL, Python, NoSQL, Relational Mapping.\n",
      "Embeddings generated!\n",
      "\n",
      "            --- Recommendation #1 (nearest neighbor 1) ---\n",
      "            Element: Databases\n",
      "            Distance: 0.055\n",
      "\n",
      "            --- Recommendation #2 (nearest neighbor 2) ---\n",
      "            Element: Web development\n",
      "            Distance: 0.176\n",
      "\n",
      "            --- Recommendation #3 (nearest neighbor 3) ---\n",
      "            Element: Data Analytics\n",
      "            Distance: 0.201\n",
      "\n",
      "            --- Recommendation #4 (nearest neighbor 4) ---\n",
      "            Element: Machine learning\n",
      "            Distance: 0.202\n",
      "\n",
      "            --- Recommendation #5 (nearest neighbor 5) ---\n",
      "            Element: Digital marketing\n",
      "            Distance: 0.213\n",
      "\n",
      "            --- Recommendation #6 (nearest neighbor 6) ---\n",
      "            Element: Cybersecurity\n",
      "            Distance: 0.231\n"
     ]
    }
   ],
   "source": [
    "# Get input element info formated\n",
    "input_element_info = get_element_info(input_element)\n",
    "\n",
    "# Get keywords from input element\n",
    "input_element_keywords = get_key_words(input_element_info, prompt)\n",
    "print(\"Keywords from input element: \", input_element_keywords)\n",
    "\n",
    "# Get embeddings from input element:\n",
    "input_element_embeddings = embedding_from_string(input_element_keywords)\n",
    "print(\"Embeddings generated!\")\n",
    "\n",
    "# Get recommended source elements from input element:\n",
    "recommended_elements = get_recommendations(input_element_embeddings, embeddings_data, print_results=True)"
   ]
  },
  {
   "cell_type": "code",
   "execution_count": null,
   "metadata": {},
   "outputs": [],
   "source": []
  }
 ],
 "metadata": {
  "kernelspec": {
   "display_name": "Python 3",
   "language": "python",
   "name": "python3"
  },
  "language_info": {
   "codemirror_mode": {
    "name": "ipython",
    "version": 3
   },
   "file_extension": ".py",
   "mimetype": "text/x-python",
   "name": "python",
   "nbconvert_exporter": "python",
   "pygments_lexer": "ipython3",
   "version": "3.11.3"
  },
  "orig_nbformat": 4
 },
 "nbformat": 4,
 "nbformat_minor": 2
}
