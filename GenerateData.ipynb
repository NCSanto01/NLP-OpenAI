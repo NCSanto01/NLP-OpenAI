{
 "cells": [
  {
   "cell_type": "code",
   "execution_count": null,
   "id": "78bf51a3",
   "metadata": {},
   "outputs": [],
   "source": []
  },
  {
   "cell_type": "markdown",
   "id": "a10eb729",
   "metadata": {},
   "source": [
    "## Imports and Functions"
   ]
  },
  {
   "cell_type": "code",
   "execution_count": 1,
   "id": "ebd494e8",
   "metadata": {},
   "outputs": [],
   "source": [
    "# imports\n",
    "import pandas\n",
    "import pickle\n",
    "from googletrans import Translator, constants\n",
    "import requests\n",
    "import pandas\n",
    "from sklearn.metrics.pairwise import cosine_similarity\n",
    "import pickle\n",
    "import gzip\n",
    "import json\n",
    "\n",
    "\n",
    "translator = Translator()\n",
    "\n",
    "from openai.embeddings_utils import (\n",
    "    get_embedding,\n",
    "    distances_from_embeddings,\n",
    "    tsne_components_from_embeddings,\n",
    "    chart_from_components,\n",
    "    indices_of_nearest_neighbors_from_distances,\n",
    ")\n",
    "import openai\n",
    "from dotenv import load_dotenv\n",
    "import os\n",
    "load_dotenv()\n",
    "\n",
    "from config import *\n",
    "\n",
    "# constants\n",
    "EMBEDDING_MODEL = \"text-embedding-ada-002\"\n",
    "\n",
    "openai.api_key = os.environ.get('OPENAI_API_KEY')\n",
    "\n",
    "\n",
    "def get_key_words(element_content, prompt):\n",
    "    \"\"\"\n",
    "        Returns keywords extracted from element content\n",
    "    \"\"\"\n",
    "\n",
    "    text = prompt + \" \" + element_content\n",
    "    max_tokens = 4097\n",
    "\n",
    "    if len(text)> 4097*2.5:\n",
    "        text = text[:int(max_tokens*2)]\n",
    "        print(\"TRUNCATED: \", len(text))\n",
    "    \n",
    "    try:\n",
    "        response = openai.ChatCompletion.create(\n",
    "                model=\"gpt-3.5-turbo\",\n",
    "                messages=[\n",
    "                {\"role\": \"system\", \"content\": \"You are a helpful assistant.\"},\n",
    "                {\"role\": \"user\", \"content\": text}\n",
    "                ]\n",
    "            )\n",
    "\n",
    "        key_words = response[\"choices\"][0][\"message\"][\"content\"]\n",
    "    except Exception as e:\n",
    "        print(\"ERROR: \", e)\n",
    "        key_words = \"\"\n",
    "    return key_words\n",
    "\n",
    "\n",
    "def embedding_from_string(\n",
    "    string: str,\n",
    "    model: str = EMBEDDING_MODEL,\n",
    ") -> list:\n",
    "    \"\"\"\n",
    "        Returns embedding from string\n",
    "    \"\"\"\n",
    "    embedding = get_embedding(string, model)\n",
    "    \n",
    "    return embedding\n",
    "    \n",
    "def get_element_info(element):\n",
    "    return \"{'name': \"+element['name']+\", 'description': \"+str(element['content'])+\"}\" \n",
    "    \n",
    "\n"
   ]
  },
  {
   "cell_type": "markdown",
   "id": "fccbd359",
   "metadata": {},
   "source": [
    "## Load elements from pickle"
   ]
  },
  {
   "cell_type": "code",
   "execution_count": 2,
   "id": "dcd7160d",
   "metadata": {},
   "outputs": [],
   "source": [
    "source_file = source_elements_file\n",
    "source_elements = []\n",
    "try:\n",
    "    with open(source_file, 'rb') as handle:\n",
    "        source_elements = pickle.load(handle)\n",
    "except:\n",
    "    print(\"No source file found\")"
   ]
  },
  {
   "cell_type": "markdown",
   "id": "1bca896a",
   "metadata": {},
   "source": [
    "## Get Keywords from source elements"
   ]
  },
  {
   "cell_type": "markdown",
   "id": "2030d7e3",
   "metadata": {},
   "source": [
    "### Define prompt\n",
    "\n",
    "Here you must declare the instruction that will be sent to ChatGPT to get the keywords.\n",
    "The prompt should be adapted to what your elements represent.\n",
    "Below is an example of a prompt that is adapted to elements that represent online courses."
   ]
  },
  {
   "cell_type": "code",
   "execution_count": 7,
   "id": "33337139",
   "metadata": {},
   "outputs": [],
   "source": [
    "element_type = \"online blog post\"\n",
    "prompt = f\"This is the information about a {element_type}. You must generate 5 words that describe as precisely as possible the main topic of the {element_type}. You must write the 5 words in one single line.\""
   ]
  },
  {
   "cell_type": "markdown",
   "id": "250645f8",
   "metadata": {},
   "source": [
    "### Generate keywords"
   ]
  },
  {
   "cell_type": "code",
   "execution_count": 12,
   "id": "b356ea4b",
   "metadata": {},
   "outputs": [
    {
     "name": "stdout",
     "output_type": "stream",
     "text": [
      "[{'id': 1, 'name': 'Data Analytics', 'content': 'Data Scientists try to make sense of the data that’s all around us. Taking a data science course can help you make informed decisions, create beautiful visualizations, and even try to predict future events through Machine Learning. If you’re curious about what you can learn about the world using the data produced every day, then data science might be for you!'}, {'id': 1, 'name': 'Databases', 'content': 'Learn database development from our best-in-class instructors. Our courses help you skill up in SQL, Python, NoSQL, Object relational mapping and more. Our authors show you how to gather the information needed, analyze the requirements, design a schema and implement the final solution.'}, {'id': 1, 'name': 'Cybersecurity', 'content': 'Today’s interconnected world makes everyone more susceptible to cyber-attacks. Whether you’re attracted to the relativity new world of cybersecurity as a professional, or just interested in protecting yourself online and in social media, this introductory course is the answer. It explores cyber trends, threats—along with the broader topic of cybersecurity in a way that will matter to YOU. For instance, you’ll learn how to protect your personal privacy online while gaining additional insight on the challenges companies, and governmental and educational institutions face today. No prerequisites required.'}, {'id': 1, 'name': 'Machine learning', 'content': 'Demand for machine learning skills is growing fast. With Pluralsight, you’ll learn everything from the fundamentals to advanced topics like neural networks, natural language processing, and unsupervised learning models. Master machine learning with help from real-world experts.'}, {'id': 1, 'name': 'Web development', 'content': 'Web Development is the practice of developing websites and web apps that live on the internet. Whether you’re interested in front-end, back-end, or going full-stack, our web development courses will help you get there.'}, {'id': 1, 'name': 'Digital marketing', 'content': 'Digital Marketing Certification Online Course transforms you into a digital market specialist in domains like SEO, social media, pay-per-click, conversion optimization, digital analytics, content, mobile, & email marketing. Get 12-month access to Digital Marketing Program & become industry-ready with the latest tools, work on real-world projects, and attend Expert Sessions from the Facebook team.'}, {'id': 7, 'name': 'Machine Learning scientific paper', 'content': 'In the current age of the Fourth Industrial Revolution (4IR or Industry 4.0), the digital world has a wealth of data, such as Internet of Things (IoT) data, cybersecurity data, mobile data, business data, social media data, health data, etc. To intelligently analyze these data and develop the corresponding smart and automated applications, the knowledge of artificial intelligence (AI), particularly, machine learning (ML) is the key. Various types of machine learning algorithms such as supervised, unsupervised, semi-supervised, and reinforcement learning exist in the area. Besides, the deep learning, which is part of a broader family of machine learning methods, can intelligently analyze the data on a large scale. In this paper, we present a comprehensive view on these machine learning algorithms that can be applied to enhance the intelligence and the capabilities of an application. Thus, this study’s key contribution is explaining the principles of different machine learning techniques and their applicability in various real-world application domains, such as cybersecurity systems, smart cities, healthcare, e-commerce, agriculture, and many more. We also highlight the challenges and potential research directions based on our study. Overall, this paper aims to serve as a reference point for both academia and industry professionals as well as for decision-makers in various real-world situations and application areas, particularly from the technical point of view.'}]\n",
      "TOTAL ELEMENTS:  7\n"
     ]
    }
   ],
   "source": [
    "keywords_data = {'id': [], 'name': [], 'keywords': []}\n",
    "keywords_file = source_keywords_file\n",
    "\n",
    "print(source_elements)\n",
    "try:\n",
    "    with open(keywords_file, 'rb') as handle:\n",
    "        keywords_data = pickle.load(handle)\n",
    "        \n",
    "except:\n",
    "    print(\"No current keywords found\")\n",
    "    \n",
    "print(\"TOTAL ELEMENTS: \", len(source_elements))\n",
    "current_keywords = len(keywords_data['name'])\n",
    "counter = current_keywords\n",
    "for element in source_elements[current_keywords:]:\n",
    "    print(\"element: \"+str(counter)+\" of \"+str(len(source_elements)))\n",
    "    element_info = get_element_info(element)\n",
    "    keywords = get_key_words(element_info, prompt)\n",
    "    \n",
    "    if keywords!=\"\":\n",
    "        keywords_data['id'].append(element['id'])\n",
    "        keywords_data['name'].append(element['name'])\n",
    "        keywords_data['keywords'].append(keywords)\n",
    "        with open(keywords_file, 'wb') as handle:\n",
    "            pickle.dump(keywords_data, handle, protocol=pickle.HIGHEST_PROTOCOL)\n",
    "    else:\n",
    "        break\n",
    "        \n",
    "    counter = counter + 1\n",
    "    "
   ]
  },
  {
   "cell_type": "markdown",
   "id": "200bef39",
   "metadata": {},
   "source": [
    "## Write Keywords in excel"
   ]
  },
  {
   "cell_type": "code",
   "execution_count": 5,
   "id": "3aa1856c",
   "metadata": {},
   "outputs": [],
   "source": [
    "## Writting the KEY WORDS in excel:\n",
    "keywords_excel_file = source_keywords_excel_file\n",
    "    \n",
    "with open(keywords_file, 'rb') as handle:\n",
    "    keywords_data = pickle.load(handle)\n",
    "    \n",
    "df = pandas.DataFrame(keywords_data)\n",
    "\n",
    " \n",
    "writer = pandas.ExcelWriter(keywords_excel_file, engine='xlsxwriter')\n",
    "df.to_excel(writer, sheet_name = \"EN\")\n",
    "\n",
    "writer.close()"
   ]
  },
  {
   "cell_type": "markdown",
   "id": "23da45cf",
   "metadata": {},
   "source": [
    "## Generate element embeddings from their Keywords"
   ]
  },
  {
   "cell_type": "code",
   "execution_count": 6,
   "id": "8d12ae03",
   "metadata": {},
   "outputs": [
    {
     "name": "stdout",
     "output_type": "stream",
     "text": [
      "Element 1 of 7\n",
      "Element 2 of 7\n",
      "Element 3 of 7\n",
      "Element 4 of 7\n",
      "Element 5 of 7\n",
      "Element 6 of 7\n",
      "Element 7 of 7\n"
     ]
    }
   ],
   "source": [
    "embeddings_file = embeddings_data_file\n",
    "\n",
    "with open(keywords_file, 'rb') as handle:\n",
    "    keywords_data_df= pickle.load(handle)\n",
    "\n",
    "## Convert from dataframe to list of objects:\n",
    "keywords_data = []\n",
    "for i in range(len(keywords_data_df['name'])):\n",
    "    name = keywords_data_df['name'][i]\n",
    "    element_id = keywords_data_df['id'][i]\n",
    "    element_keywords = keywords_data_df['keywords'][i]\n",
    "    keywords_data.append({'id':element_id, 'name':name, 'keywords': element_keywords})\n",
    "    \n",
    "counter = 1\n",
    "index = 0\n",
    "for element in keywords_data:\n",
    "    print(\"Element \"+str(counter)+\" of \"+str(len(keywords_data)))\n",
    "    embeddings = embedding_from_string(element['keywords'])\n",
    "    keywords_data[index][\"embeddings\"] = embeddings\n",
    "    \n",
    "    with gzip.open(embeddings_file, 'wb') as f:\n",
    "        # Write keywords data in zip file\n",
    "        pickle.dump(keywords_data, f)\n",
    "        \n",
    "    counter = counter + 1\n",
    "    index = index + 1\n",
    "    \n",
    "\n"
   ]
  },
  {
   "cell_type": "code",
   "execution_count": null,
   "id": "b747ba21",
   "metadata": {},
   "outputs": [],
   "source": [
    "\n"
   ]
  },
  {
   "cell_type": "code",
   "execution_count": null,
   "id": "1599062c",
   "metadata": {},
   "outputs": [],
   "source": []
  }
 ],
 "metadata": {
  "kernelspec": {
   "display_name": "Python 3 (ipykernel)",
   "language": "python",
   "name": "python3"
  },
  "language_info": {
   "codemirror_mode": {
    "name": "ipython",
    "version": 3
   },
   "file_extension": ".py",
   "mimetype": "text/x-python",
   "name": "python",
   "nbconvert_exporter": "python",
   "pygments_lexer": "ipython3",
   "version": "3.11.3"
  }
 },
 "nbformat": 4,
 "nbformat_minor": 5
}
