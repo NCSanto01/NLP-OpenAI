{
 "cells": [
  {
   "attachments": {},
   "cell_type": "markdown",
   "metadata": {},
   "source": [
    "## Create elements\n",
    "\n",
    "Use this code to create the .pickle file called \"source.pickle\" which must contain a list with your elements.\n",
    "\n",
    "All elements must follow the following format:\n",
    "```python\n",
    "{\n",
    "    'id': \" \",\n",
    "    'name': \" \",\n",
    "    'content': \" \"\n",
    "}\n",
    "```\n",
    "\n",
    "Bellow are 6 examples of elements that have been taken from online courses about different topics"
   ]
  },
  {
   "cell_type": "code",
   "execution_count": 6,
   "metadata": {},
   "outputs": [],
   "source": [
    "element1 = {'id': 1, 'name': \"Data Analytics\", 'content': \"Data Scientists try to make sense of the data that’s all around us. Taking a data science course can help you make informed decisions, create beautiful visualizations, and even try to predict future events through Machine Learning. If you’re curious about what you can learn about the world using the data produced every day, then data science might be for you!\"}\n",
    "element2 = {'id': 1, 'name': \"Databases\", 'content': \"Learn database development from our best-in-class instructors. Our courses help you skill up in SQL, Python, NoSQL, Object relational mapping and more. Our authors show you how to gather the information needed, analyze the requirements, design a schema and implement the final solution.\"}\n",
    "element3 = {'id': 1, 'name': \"Cybersecurity\", 'content': \"Today’s interconnected world makes everyone more susceptible to cyber-attacks. Whether you’re attracted to the relativity new world of cybersecurity as a professional, or just interested in protecting yourself online and in social media, this introductory course is the answer. It explores cyber trends, threats—along with the broader topic of cybersecurity in a way that will matter to YOU. For instance, you’ll learn how to protect your personal privacy online while gaining additional insight on the challenges companies, and governmental and educational institutions face today. No prerequisites required.\"}\n",
    "element4 = {'id': 1, 'name': \"Machine learning\", 'content': \"Demand for machine learning skills is growing fast. With Pluralsight, you’ll learn everything from the fundamentals to advanced topics like neural networks, natural language processing, and unsupervised learning models. Master machine learning with help from real-world experts.\"}\n",
    "element5 = {'id': 1, 'name': \"Web development\", 'content': \"Web Development is the practice of developing websites and web apps that live on the internet. Whether you’re interested in front-end, back-end, or going full-stack, our web development courses will help you get there.\"}\n",
    "element6 = {'id': 1, 'name': \"Digital marketing\", 'content': \"Digital Marketing Certification Online Course transforms you into a digital market specialist in domains like SEO, social media, pay-per-click, conversion optimization, digital analytics, content, mobile, & email marketing. Get 12-month access to Digital Marketing Program & become industry-ready with the latest tools, work on real-world projects, and attend Expert Sessions from the Facebook team.\"}\n",
    "\n",
    "elements = [element1, element2, element3, element4, element5, element6]"
   ]
  },
  {
   "attachments": {},
   "cell_type": "markdown",
   "metadata": {},
   "source": [
    "## Imports"
   ]
  },
  {
   "cell_type": "code",
   "execution_count": 7,
   "metadata": {},
   "outputs": [],
   "source": [
    "import pickle"
   ]
  },
  {
   "attachments": {},
   "cell_type": "markdown",
   "metadata": {},
   "source": [
    "## Write elements into the source.pickle file"
   ]
  },
  {
   "cell_type": "code",
   "execution_count": 8,
   "metadata": {},
   "outputs": [],
   "source": [
    "source_file = \"source.pickle\"\n",
    "\n",
    "\n",
    "\n",
    "with open(source_file, 'wb') as handle:\n",
    "    pickle.dump(elements, handle, protocol=pickle.HIGHEST_PROTOCOL)"
   ]
  }
 ],
 "metadata": {
  "kernelspec": {
   "display_name": "Python 3",
   "language": "python",
   "name": "python3"
  },
  "language_info": {
   "codemirror_mode": {
    "name": "ipython",
    "version": 3
   },
   "file_extension": ".py",
   "mimetype": "text/x-python",
   "name": "python",
   "nbconvert_exporter": "python",
   "pygments_lexer": "ipython3",
   "version": "3.11.3"
  },
  "orig_nbformat": 4
 },
 "nbformat": 4,
 "nbformat_minor": 2
}
